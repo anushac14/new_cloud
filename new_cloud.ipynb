{
 "cells": [
  {
   "cell_type": "code",
   "execution_count": 15,
   "id": "d6c68a88",
   "metadata": {},
   "outputs": [],
   "source": [
    "import ee\n",
    "\n",
    "#ee.Authenticate()"
   ]
  },
  {
   "cell_type": "code",
   "execution_count": 21,
   "id": "65e7c735",
   "metadata": {},
   "outputs": [],
   "source": [
    "import ipyleaflet\n",
    "import ipywidgets\n",
    "from ipywidgets import interact\n",
    "import geemap\n",
    "import ee\n",
    "import pandas as pd\n",
    "\n",
    "\n",
    "def cloudmap(hour=1,minute =1,month = 1, day = 1, year = 1):\n",
    "\n",
    "    start_hour = str(hour - 1)\n",
    "    start_minute = str(minute)\n",
    "    \n",
    "\n",
    "    end_hour = str(hour)\n",
    "    end_minute = str(minute)\n",
    "    \n",
    "    start_date_time = str(year) + \"-\"+ str(month) + \"-\" + str(day - 1)\n",
    "    end_date_time = str(year) + \"-\"+ str(month) + \"-\" + str(day)\n",
    "    \n",
    "\n",
    "    start_string = start_date_time + \"T\" + start_hour + \":\" + start_minute\n",
    "    end_string = end_date_time + \"T\" + end_hour + \":\" + end_minute\n",
    "    \n",
    "\n",
    "    Map = geemap.Map()\n",
    "\n",
    "\n",
    "    collection = ee.ImageCollection('COPERNICUS/S5P/NRTI/L3_CLOUD').select('cloud_fraction').filterDate(start_string, end_string);\n",
    "\n",
    "    band_viz = {\n",
    "      'min': 0,\n",
    "      'max': 0.95,\n",
    "        'opacity' : 0.5,\n",
    "\n",
    "      'palette': ['black', 'blue', 'purple', 'cyan', 'green', 'yellow', 'red']\n",
    "    };\n",
    "\n",
    "    Map.addLayer(collection.mean(), band_viz, 'S5P Cloud');\n",
    "    Map.setCenter(-58.14, -10.47, 2);\n",
    "    colors = band_viz['palette']\n",
    "    vmin = band_viz['min']\n",
    "    vmax = band_viz['max']\n",
    "\n",
    "    Map.add_colorbar_branca(colors=colors, vmin=vmin, vmax=vmax, layer_name=\"SRTM DEM\")\n",
    "\n",
    "    Map.zoom_to_me(zoom=14, add_marker=True)\n",
    "    \n",
    "    data = 'austrailan_cities.csv'\n",
    "    Map.add_points_from_xy(data, x=\"longitude\", y=\"latitude\")\n",
    "    \n",
    "\n",
    "    \n",
    "    return Map\n",
    "\n",
    "\n",
    "\n"
   ]
  },
  {
   "cell_type": "code",
   "execution_count": 22,
   "id": "a8cae4cc",
   "metadata": {},
   "outputs": [
    {
     "data": {
      "application/vnd.jupyter.widget-view+json": {
       "model_id": "4c8e73c0a71b431ba63ef978c44e0d2a",
       "version_major": 2,
       "version_minor": 0
      },
      "text/plain": [
       "interactive(children=(IntSlider(value=1, description='hour', max=24), IntSlider(value=1, description='minute',…"
      ]
     },
     "metadata": {},
     "output_type": "display_data"
    },
    {
     "ename": "NameError",
     "evalue": "name 'Map' is not defined",
     "output_type": "error",
     "traceback": [
      "\u001b[0;31m---------------------------------------------------------------------------\u001b[0m",
      "\u001b[0;31mNameError\u001b[0m                                 Traceback (most recent call last)",
      "Cell \u001b[0;32mIn [22], line 2\u001b[0m\n\u001b[1;32m      1\u001b[0m interact(cloudmap,hour\u001b[38;5;241m=\u001b[39m(\u001b[38;5;241m0\u001b[39m,\u001b[38;5;241m24\u001b[39m,\u001b[38;5;241m1\u001b[39m),minute \u001b[38;5;241m=\u001b[39m(\u001b[38;5;241m0\u001b[39m,\u001b[38;5;241m60\u001b[39m,\u001b[38;5;241m1\u001b[39m),month \u001b[38;5;241m=\u001b[39m (\u001b[38;5;241m1\u001b[39m,\u001b[38;5;241m12\u001b[39m,\u001b[38;5;241m1\u001b[39m), day \u001b[38;5;241m=\u001b[39m (\u001b[38;5;241m1\u001b[39m,\u001b[38;5;241m31\u001b[39m,\u001b[38;5;241m1\u001b[39m), year \u001b[38;5;241m=\u001b[39m (\u001b[38;5;241m2015\u001b[39m,\u001b[38;5;241m2023\u001b[39m,\u001b[38;5;241m1\u001b[39m))\n\u001b[0;32m----> 2\u001b[0m \u001b[43mMap\u001b[49m\n",
      "\u001b[0;31mNameError\u001b[0m: name 'Map' is not defined"
     ]
    }
   ],
   "source": [
    "interact(cloudmap,hour=(0,24,1),minute =(0,60,1),month = (1,12,1), day = (1,31,1), year = (2015,2023,1))\n",
    "Map\n"
   ]
  },
  {
   "cell_type": "code",
   "execution_count": null,
   "id": "60049611",
   "metadata": {},
   "outputs": [],
   "source": []
  }
 ],
 "metadata": {
  "kernelspec": {
   "display_name": "Python 3 (ipykernel)",
   "language": "python",
   "name": "python3"
  },
  "language_info": {
   "codemirror_mode": {
    "name": "ipython",
    "version": 3
   },
   "file_extension": ".py",
   "mimetype": "text/x-python",
   "name": "python",
   "nbconvert_exporter": "python",
   "pygments_lexer": "ipython3",
   "version": "3.10.6"
  }
 },
 "nbformat": 4,
 "nbformat_minor": 5
}
